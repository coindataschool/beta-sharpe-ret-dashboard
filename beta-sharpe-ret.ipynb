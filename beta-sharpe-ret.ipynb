{
 "cells": [
  {
   "cell_type": "code",
   "execution_count": 1,
   "id": "d450d5d9-5c88-4739-b7e3-e111973f44d1",
   "metadata": {},
   "outputs": [
    {
     "name": "stderr",
     "output_type": "stream",
     "text": [
      "2022-08-11 13:08:28,581 : INFO : _init_num_threads : NumExpr defaulting to 8 threads.\n"
     ]
    }
   ],
   "source": [
    "import warnings\n",
    "warnings.filterwarnings('ignore')\n",
    "\n",
    "import os\n",
    "from duneanalytics import DuneAnalytics\n",
    "import numpy as np\n",
    "import pandas as pd\n",
    "import pandas_datareader.data as reader\n",
    "import datetime as dt\n",
    "import statsmodels.api as sm"
   ]
  },
  {
   "cell_type": "markdown",
   "id": "e974a512-4105-496d-a68d-4532cbeddbe1",
   "metadata": {
    "tags": []
   },
   "source": [
    "### Define Helper Functions"
   ]
  },
  {
   "cell_type": "code",
   "execution_count": 2,
   "id": "c7f99d2d-f359-44aa-bb76-27902a68fb10",
   "metadata": {},
   "outputs": [],
   "source": [
    "def calc_beta(df_ret, token='BTC', benchmark='SP500'):\n",
    "    X = df_ret[benchmark]\n",
    "    y = df_ret[token]\n",
    "    X_sm = sm.add_constant(X)\n",
    "    model = sm.OLS(y, X_sm)\n",
    "    results = model.fit()\n",
    "    return results.params[benchmark]"
   ]
  },
  {
   "cell_type": "code",
   "execution_count": 3,
   "id": "6a473f5d-4fc4-474c-9922-369d5971aacf",
   "metadata": {},
   "outputs": [],
   "source": [
    "def annualize_tot_ret(tot_ret, dur_years):\n",
    "    return (1+tot_ret)**(1/dur_years) - 1"
   ]
  },
  {
   "cell_type": "code",
   "execution_count": 4,
   "id": "1e7a98fa-6ce5-48fa-95e8-7d416aea2192",
   "metadata": {},
   "outputs": [],
   "source": [
    "def extract_frame_from_dune_data(dune_data, date_col='day'):    \n",
    "    dd = dune_data['data']['get_result_by_result_id']\n",
    "    df = pd.json_normalize(dd, record_prefix='')\n",
    "    df = df.loc[:, df.columns.str.startswith('data')]\n",
    "    df.columns = df.columns.str.replace('data.', '', regex=False)\n",
    "    df['date'] = pd.to_datetime(df[date_col].str.replace('T.*', '', regex=True))\n",
    "    if date_col != 'date':\n",
    "        df = df.drop(date_col, axis=1)\n",
    "    df = df.set_index('date')\n",
    "    # drop the last row cuz it may not always be a full day\n",
    "    return df.iloc[:-1, :]"
   ]
  },
  {
   "cell_type": "code",
   "execution_count": 5,
   "id": "b23cc1fe-0994-49b8-b7b6-2c907d335ed0",
   "metadata": {},
   "outputs": [],
   "source": [
    "# get Dune Analytics login credentials\n",
    "MY_USERNAME = os.environ.get('DUNE_USERNAME')\n",
    "MY_PASSWORD = os.environ.get('DUNE_PASSWORD')\n",
    "dune = DuneAnalytics(MY_USERNAME, MY_PASSWORD)\n",
    "\n",
    "dune.login()\n",
    "dune.fetch_auth_token()\n",
    "\n",
    "# query daily prices for GLP and TriCrypto\n",
    "glp_arbi_prices = dune.query_result(dune.query_result_id(query_id=1069389))\n",
    "tricrypto_prices = dune.query_result(dune.query_result_id(query_id=1145739))\n",
    "df_glp_prices = (extract_frame_from_dune_data(glp_arbi_prices, 'date')\n",
    "    .rename({'price':'GLP'}, axis=1))\n",
    "df_tri_prices = (extract_frame_from_dune_data(tricrypto_prices, 'date')\n",
    "    .rename({'price':'TriCrypto'}, axis=1))\n",
    "# TriCrypto price became available on 2021-06-09 and GLP on 2021-08-31. \n",
    "# let's cut TriCrypto's price data using 2021-08-31. This will ensure the \n",
    "# monthly returns to be calculated over the same months.\n",
    "df_tri_prices = df_tri_prices.loc[df_glp_prices.index[0]:, :]"
   ]
  },
  {
   "cell_type": "markdown",
   "id": "aeaa6ca8-582d-4408-afc1-acdfbd250343",
   "metadata": {
    "tags": []
   },
   "source": [
    "## Get Price Data from Yahoo\n",
    "\n",
    "SP500, Reit, Tips, Bonds, Gold, Broad Commodities, BTC, and ETH \n",
    "\n",
    "We want to use the start date of the asset with the least amount of history as the start date of the period we want to download data for all assets. This saves time."
   ]
  },
  {
   "cell_type": "code",
   "execution_count": null,
   "id": "0ca90480-6565-41bd-89c6-ba5cd827e699",
   "metadata": {},
   "outputs": [],
   "source": [
    "start = dt.date(2021, 9, 1) # GLP price first became available on 2021-08-31.\n",
    "    # yahoo price reader downloads prices since the day before `start` (including the day before `start`) when running locally. \n",
    "    # But when running on streamlit cloud, it excludes the day before `start`, which should be the correct behavior. \n",
    "    # I guess it has to do with my timezone and local time? \n",
    "today = dt.datetime.now(tz=dt.timezone.utc)\n",
    "end = dt.date(today.year, today.month, 1)\n",
    "tickers_names = {\n",
    "    '^GSPC': 'SP500',\n",
    "    'VNQ': 'Real Estate',           \n",
    "    'TIP': 'Inflation-Linked Bonds',   \n",
    "    'BND': 'Nominal Bonds', \n",
    "    'GLD': 'Gold',\n",
    "    '^SPGSCI': 'Broad Commodities',\n",
    "    'BTC-USD':'BTC', \n",
    "    'ETH-USD':'ETH'\n",
    "}\n",
    "tickers = list(tickers_names.keys())\n",
    "\n",
    "df_prices = reader.get_data_yahoo(tickers, start, end)['Adj Close'].rename(tickers_names, axis=1)\n",
    "df_prices.columns.name = None"
   ]
  },
  {
   "cell_type": "code",
   "execution_count": null,
   "id": "51b9a722-b5ef-4e31-9618-dc198f324e7a",
   "metadata": {},
   "outputs": [],
   "source": [
    "df_prices.head(2)"
   ]
  },
  {
   "cell_type": "code",
   "execution_count": null,
   "id": "cba6562e-f659-4dc4-8765-e7744794fc13",
   "metadata": {},
   "outputs": [],
   "source": [
    "df_prices.tail(2)"
   ]
  },
  {
   "cell_type": "code",
   "execution_count": null,
   "id": "cc205d8d-f041-4170-9bee-dc871b621d09",
   "metadata": {},
   "outputs": [],
   "source": [
    "# drop the last row since end date is the first day of the current month, keeping it will result a fake current month return\n",
    "df_prices = df_prices.iloc[:-1]"
   ]
  },
  {
   "cell_type": "code",
   "execution_count": null,
   "id": "c956933d-25fa-4254-be15-5aed1a69d944",
   "metadata": {},
   "outputs": [],
   "source": [
    "df_prices.tail(2)"
   ]
  },
  {
   "cell_type": "code",
   "execution_count": null,
   "id": "a4b7477e-481b-4912-92d7-bbe4c73186bd",
   "metadata": {},
   "outputs": [],
   "source": [
    "# download risk free rates, which are already multiplied by 100, so we divide by 100\n",
    "# behaves correctly starting on `start` not the day before\n",
    "rfs = reader.DataReader('F-F_Research_Data_Factors', 'famafrench', start, end)[0].RF / 100 \n",
    "rfs.head()"
   ]
  },
  {
   "cell_type": "markdown",
   "id": "c939b0f4-e34e-4e8c-8d29-c6bb1589f06c",
   "metadata": {},
   "source": [
    "## Calculate Monthly Excess Returns"
   ]
  },
  {
   "cell_type": "code",
   "execution_count": null,
   "id": "6d0dada8-515e-4eca-adef-5ef4aa99e7fe",
   "metadata": {},
   "outputs": [],
   "source": [
    "monthly_rets = df_prices.resample('M').last().pct_change()\n",
    "monthly_rets_glp = df_glp_prices.resample('M').last().pct_change()\n",
    "monthly_rets_tri = df_tri_prices.resample('M').last().pct_change()\n",
    "monthly_rets = monthly_rets.join(monthly_rets_glp).join(monthly_rets_tri)"
   ]
  },
  {
   "cell_type": "code",
   "execution_count": null,
   "id": "4a0ecb55-8117-4790-b35d-7643eac1e7b0",
   "metadata": {},
   "outputs": [],
   "source": [
    "monthly_rets.head(2)"
   ]
  },
  {
   "cell_type": "code",
   "execution_count": null,
   "id": "aaaa4fcf-e7bf-493b-9064-913beec57096",
   "metadata": {},
   "outputs": [],
   "source": [
    "monthly_rets_glp.head(2)"
   ]
  },
  {
   "cell_type": "code",
   "execution_count": null,
   "id": "802f6d05-31fa-4a0f-bab6-86cea3c96cd2",
   "metadata": {},
   "outputs": [],
   "source": [
    "monthly_rets_tri.head(2)"
   ]
  },
  {
   "cell_type": "code",
   "execution_count": null,
   "id": "beba31c5-148c-4deb-99e6-146810ad85dd",
   "metadata": {},
   "outputs": [],
   "source": [
    "monthly_rets = monthly_rets.to_period('M') # because the rfs have monthly period, otherwise can't join\n",
    "monthly_rets = monthly_rets.join(rfs)"
   ]
  },
  {
   "cell_type": "code",
   "execution_count": null,
   "id": "d978e332-4d67-41c2-b57d-e2a54134641b",
   "metadata": {},
   "outputs": [],
   "source": [
    "# calculate monthly excess returns\n",
    "for col in monthly_rets.columns.drop('RF'):\n",
    "    newcol = col + ' - ' + 'RF'\n",
    "    monthly_rets[newcol] = monthly_rets[col] - monthly_rets['RF']\n",
    "# ensure all assets have the same months for fair comparison.  \n",
    "excess_monthly_rets = monthly_rets.dropna().loc[:, monthly_rets.columns.str.endswith('- RF')]\n",
    "# remove ' - RF' from the column names for better display\n",
    "excess_monthly_rets.columns = excess_monthly_rets.columns.str.replace(' - RF', '')\n",
    "excess_monthly_rets.head()"
   ]
  },
  {
   "cell_type": "code",
   "execution_count": null,
   "id": "d8503fee-8c9a-4121-87cd-894f24e79a3d",
   "metadata": {},
   "outputs": [],
   "source": [
    "excess_monthly_rets.tail()"
   ]
  },
  {
   "cell_type": "code",
   "execution_count": null,
   "id": "3c72e398-1709-4098-82c0-49011eef7b46",
   "metadata": {},
   "outputs": [],
   "source": [
    "print('Data period: ', excess_monthly_rets.index.min().strftime('%Y-%m'), \n",
    "      '~', excess_monthly_rets.index.max().strftime('%Y-%m'))\n",
    "print(\"Number of months:\", len(excess_monthly_rets))"
   ]
  },
  {
   "cell_type": "markdown",
   "id": "c980763f-0ad5-404b-8214-e868221c7b55",
   "metadata": {},
   "source": [
    "## Output Tables"
   ]
  },
  {
   "cell_type": "code",
   "execution_count": null,
   "id": "4e8f38f5-5ad9-48e3-acc8-544c01e4128e",
   "metadata": {},
   "outputs": [],
   "source": [
    "# Calculate Beta, Sharpe Ratio, and Excess Return (Ann) using Excess Monthly Returns\n",
    "#   - Treat SP500 as benchmark\n",
    "#   - GLP and TriCrypto Yields are excluded\n",
    "market = 'SP500'\n",
    "tokens = excess_monthly_rets.columns\n",
    "betas = [calc_beta(excess_monthly_rets, token, market).round(3) for token in tokens]\n",
    "df_betas = pd.Series(betas, index=tokens).sort_values().to_frame().rename({0:'Beta'}, axis=1)\n",
    "\n",
    "sharpe_ratios = (excess_monthly_rets.mean() / excess_monthly_rets.std()).round(3)\n",
    "df_sharpes = sharpe_ratios.sort_values(ascending=False).to_frame().rename({0:'Sharpe Ratio'}, axis=1)\n",
    "\n",
    "tot_ret = (1+excess_monthly_rets).prod()-1\n",
    "dur_years = len(excess_monthly_rets) / 12\n",
    "ann_excess_rets = annualize_tot_ret(tot_ret, dur_years).round(3) * 100\n",
    "df_ann_excess_rets = ann_excess_rets.sort_values(ascending=False).to_frame().rename({0:'Excess Return (Ann)'}, axis=1)"
   ]
  },
  {
   "cell_type": "code",
   "execution_count": null,
   "id": "257d713a-c59e-4381-ba87-d6749c55aa07",
   "metadata": {},
   "outputs": [],
   "source": [
    "df_sharpes.style.format(precision=3)"
   ]
  },
  {
   "cell_type": "code",
   "execution_count": null,
   "id": "8b7a1cad-e3ff-44bf-9484-89e70765bf48",
   "metadata": {},
   "outputs": [],
   "source": [
    "df_ann_excess_rets.style.format({'Excess Return (Ann)': '{:,.1f}%'.format})"
   ]
  },
  {
   "cell_type": "code",
   "execution_count": null,
   "id": "dc207ccc-5730-4bb0-bf30-7622fc50b0a2",
   "metadata": {},
   "outputs": [],
   "source": [
    "df_betas.style.format(precision=3)"
   ]
  },
  {
   "cell_type": "code",
   "execution_count": null,
   "id": "05327d63-c65d-4e04-87f1-3d5dbdc2916a",
   "metadata": {},
   "outputs": [],
   "source": []
  }
 ],
 "metadata": {
  "kernelspec": {
   "display_name": "Python 3 (ipykernel)",
   "language": "python",
   "name": "python3"
  },
  "language_info": {
   "codemirror_mode": {
    "name": "ipython",
    "version": 3
   },
   "file_extension": ".py",
   "mimetype": "text/x-python",
   "name": "python",
   "nbconvert_exporter": "python",
   "pygments_lexer": "ipython3",
   "version": "3.8.13"
  }
 },
 "nbformat": 4,
 "nbformat_minor": 5
}
